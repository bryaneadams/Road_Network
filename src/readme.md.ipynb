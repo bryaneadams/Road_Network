{
 "cells": [
  {
   "cell_type": "markdown",
   "metadata": {
    "ExecuteTime": {
     "end_time": "2018-02-04T07:16:18.892637Z",
     "start_time": "2018-02-04T07:16:18.882802Z"
    }
   },
   "source": []
  },
  {
   "cell_type": "markdown",
   "metadata": {},
   "source": [
    "![Architecture](satellites.jpg)\n",
    "\n",
    "This is solution for the SpaceNet three challenge as submitted to be checked by the Topcoder team.\n",
    "This will give you some information about TopCoder platform.\n",
    "\n",
    "**More stuff from us**\n",
    "- [Telegram](https://t.me/snakers4) \n",
    "- [Twitter](https://twitter.com/AlexanderVeysov)\n",
    "- [Blog](https://spark-in.me/tag/data-science)\n",
    "\n",
    "\n",
    "# 1 Hardware requirements\n",
    "\n",
    "**Training**\n",
    "\n",
    "- 6+ core modern CPU (Xeon, i7) for fast image pre-processing;\n",
    "- The models were trained on 2 * GeForce 1080 Ti;\n",
    "- Training time on my setup ~ **3 hours** for models with 8-bit images as inputs;\n",
    "- Disk space - ~30GB should be more than enough for the Docker image + files;\n",
    "- The dataset weighs ~100-150 GB and is copied, so make some room;\n",
    "\n",
    "**Inference**\n",
    "\n",
    "- 6+ core modern CPU (Xeon, i7) for fast image pre-processing;\n",
    "- On 2 * GeForce 1080 Ti inference takes **3-5 minutes**;\n",
    "- Graph creation takes **5-10 minutes**;\n",
    "\n",
    "\n",
    "# 2 Following the Topcoder requirements\n",
    "\n",
    "\n",
    "Data [download guide](https://drive.google.com/open?id=1WJh8Q1Oj38Ahn0FiwUv1WZXoIwnY08_kL4XO8cikPo0) from the authors.\n",
    "\n",
    "\n",
    "Final [testing guide](https://drive.google.com/open?id=1maGeUSaoqSYjFUzQ2S1IKyMSjzlZ5GWs) from the authors.\n",
    "\n",
    "\n",
    "**Steps to reproduce the result as per the guide:**\n",
    "\n",
    "- You can clone the repository to see the code for yourself `git clone REPO_URL .`;\n",
    "\n",
    "- Download the `.zip` [file](https://drive.google.com/file/d/1rQD1-s1JCaFcgaQ9rn9OUTc4BKOaznN-/view) to some folder;\n",
    "\n",
    "-  Download the [Dockerfile](https://drive.google.com/file/d/1rQD1-s1JCaFcgaQ9rn9OUTc4BKOaznN-/view) to the same folder;\n",
    "\n",
    "- Building and running the container (assuming [nvidia-docker2](https://github.com/NVIDIA/nvidia-docker)):\n",
    "\n",
    "`docker build -t aveysov .`\n",
    "\n",
    "`docker run --runtime=nvidia -e NVIDIA_VISIBLE_DEVICES=all -it -v /path/to/data:/home/keras/notebook/data -p 8888:8888 -p 6006:6006 --shm-size 8G aveysov`\n",
    "\n",
    "Jupyter notebook is launched under port 8888.\n",
    "Port 6006 is for tensorboard to monitor the training process, which is optional.\n",
    "\n",
    "`docker exec -it --user root 09654f4db9f9 /bin/bash`\n",
    "\n",
    "- Inside of the container you can invoke\n",
    "\n",
    "`sh train.sh` - to train the model. Traini\n",
    "\n",
    "`sh test.sh` - to test the model and generate the linestrings\n",
    "\n"
   ]
  }
 ],
 "metadata": {
  "kernelspec": {
   "display_name": "Python 3",
   "language": "python",
   "name": "python3"
  },
  "language_info": {
   "codemirror_mode": {
    "name": "ipython",
    "version": 3
   },
   "file_extension": ".py",
   "mimetype": "text/x-python",
   "name": "python",
   "nbconvert_exporter": "python",
   "pygments_lexer": "ipython3",
   "version": "3.5.4"
  },
  "toc": {
   "nav_menu": {},
   "number_sections": true,
   "sideBar": true,
   "skip_h1_title": false,
   "title_cell": "Table of Contents",
   "title_sidebar": "Contents",
   "toc_cell": false,
   "toc_position": {},
   "toc_section_display": "block",
   "toc_window_display": false
  }
 },
 "nbformat": 4,
 "nbformat_minor": 2
}
